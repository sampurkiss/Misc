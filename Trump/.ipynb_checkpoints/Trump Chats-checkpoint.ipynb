{
 "cells": [
  {
   "cell_type": "markdown",
   "metadata": {},
   "source": [
    "Trump's latest call with a world leader has given everyone a case of impeachment fever. The summarized transcript has been released and it's fairly easy to see why impeachment is likely inevitable. However, people are worked up about what may be missing from the transcript. One senator suggested after a readout of the transcripts that 20 minutes of conversation might be missing ([link](https://www.newsweek.com/senator-king-suggests-least-20-minutes-are-missing-trump-ukraine-call-transcript-1462622)). However, I think the only thing that's missing is time allowance for translation which I will show below."
   ]
  },
  {
   "cell_type": "code",
   "execution_count": 53,
   "metadata": {},
   "outputs": [
    {
     "ename": "ModuleNotFoundError",
     "evalue": "No module named 'urllib2'",
     "output_type": "error",
     "traceback": [
      "\u001b[1;31m---------------------------------------------------------------------------\u001b[0m",
      "\u001b[1;31mModuleNotFoundError\u001b[0m                       Traceback (most recent call last)",
      "\u001b[1;32m<ipython-input-53-9f0e57b61c98>\u001b[0m in \u001b[0;36m<module>\u001b[1;34m\u001b[0m\n\u001b[0;32m      1\u001b[0m \u001b[1;32mimport\u001b[0m \u001b[0mpandas\u001b[0m \u001b[1;32mas\u001b[0m \u001b[0mpd\u001b[0m\u001b[1;33m\u001b[0m\u001b[1;33m\u001b[0m\u001b[0m\n\u001b[1;32m----> 2\u001b[1;33m \u001b[1;32mimport\u001b[0m \u001b[0murllib2\u001b[0m\u001b[1;33m\u001b[0m\u001b[1;33m\u001b[0m\u001b[0m\n\u001b[0m\u001b[0;32m      3\u001b[0m \u001b[1;32mimport\u001b[0m \u001b[0mos\u001b[0m\u001b[1;33m\u001b[0m\u001b[1;33m\u001b[0m\u001b[0m\n\u001b[0;32m      4\u001b[0m \u001b[0mPATH\u001b[0m \u001b[1;33m=\u001b[0m \u001b[1;34m\"C:/Users/sam purkiss/Documents/Code/Text Analysis/Trump\"\u001b[0m\u001b[1;33m\u001b[0m\u001b[1;33m\u001b[0m\u001b[0m\n\u001b[0;32m      5\u001b[0m \u001b[0mos\u001b[0m\u001b[1;33m.\u001b[0m\u001b[0mchdir\u001b[0m\u001b[1;33m(\u001b[0m\u001b[0mPATH\u001b[0m\u001b[1;33m)\u001b[0m\u001b[1;33m\u001b[0m\u001b[1;33m\u001b[0m\u001b[0m\n",
      "\u001b[1;31mModuleNotFoundError\u001b[0m: No module named 'urllib2'"
     ]
    }
   ],
   "source": [
    "import pandas as pd\n",
    "import urllib2\n",
    "import os\n",
    "PATH = \"C:/Users/sam purkiss/Documents/Code/Text Analysis/Trump\"\n",
    "os.chdir(PATH)"
   ]
  },
  {
   "cell_type": "markdown",
   "metadata": {},
   "source": [
    "First I set dictionaries with information on each transcript. Dictionaries are one of my favourite things in Python so I like to throw them in when I can."
   ]
  },
  {
   "cell_type": "code",
   "execution_count": 51,
   "metadata": {},
   "outputs": [],
   "source": [
    "files = {'nieto': {'link': 'https://raw.githubusercontent.com/sampurkiss/Misc/master/Trump/Data/call%20with%20nieto.txt', 'date': 'January 27, 2017, FROM 9:35', 'length in mins': 53},\n",
    "\t\t 'turnbull':  {'link': 'https://github.com/sampurkiss/Misc/blob/master/Trump/Data/call%20with%20turnbull.txt', 'date': 'January 28, 2017 5:05 PM', 'length in mins': 24},\n",
    "\t\t 'zelenskyy': {'link': 'https://github.com/sampurkiss/Misc/blob/master/Trump/Data/call%20with%20zelenskyy.txt', 'date': 'July 25, 2019, 9:03 PM', 'length in mins': 30}}\n"
   ]
  },
  {
   "cell_type": "markdown",
   "metadata": {},
   "source": [
    "The question I'm interested in is what do we know about these calls? We know what the administration has claimed was said, and we know how long the conversation lasted. There were [two leaked transcripts](https://www.washingtonpost.com/graphics/2017/politics/australia-mexico-transcripts/) provided to the Washington Post some months ago which can give us context for what a normal Trump conversation with a world leader might be like. These two can be used to get an idea of whether or not Trump's call with the Ukrainian president fits into the patterns of a \"normal\" conversation.\n",
    "\n",
    "I cleaned transcripts of the calls for further data analysis and pull them in below. "
   ]
  },
  {
   "cell_type": "code",
   "execution_count": 52,
   "metadata": {},
   "outputs": [
    {
     "ename": "OSError",
     "evalue": "[Errno 22] Invalid argument: 'https://raw.githubusercontent.com/sampurkiss/Misc/master/Trump/Data/call%20with%20nieto.txt'",
     "output_type": "error",
     "traceback": [
      "\u001b[1;31m---------------------------------------------------------------------------\u001b[0m",
      "\u001b[1;31mOSError\u001b[0m                                   Traceback (most recent call last)",
      "\u001b[1;32m<ipython-input-52-ec03f11226ee>\u001b[0m in \u001b[0;36m<module>\u001b[1;34m\u001b[0m\n\u001b[0;32m      3\u001b[0m         \u001b[0mlink\u001b[0m \u001b[1;33m=\u001b[0m \u001b[0mfiles\u001b[0m\u001b[1;33m[\u001b[0m\u001b[0mleader\u001b[0m\u001b[1;33m]\u001b[0m\u001b[1;33m[\u001b[0m\u001b[1;34m'link'\u001b[0m\u001b[1;33m]\u001b[0m\u001b[1;33m\u001b[0m\u001b[1;33m\u001b[0m\u001b[0m\n\u001b[0;32m      4\u001b[0m         \u001b[0md\u001b[0m\u001b[1;33m=\u001b[0m\u001b[0mlist\u001b[0m\u001b[1;33m(\u001b[0m\u001b[1;33m)\u001b[0m\u001b[1;33m\u001b[0m\u001b[1;33m\u001b[0m\u001b[0m\n\u001b[1;32m----> 5\u001b[1;33m         \u001b[1;32mwith\u001b[0m \u001b[0mopen\u001b[0m\u001b[1;33m(\u001b[0m\u001b[0mlink\u001b[0m\u001b[1;33m,\u001b[0m \u001b[0mencoding\u001b[0m \u001b[1;33m=\u001b[0m \u001b[1;34m'latin-1'\u001b[0m\u001b[1;33m)\u001b[0m \u001b[1;32mas\u001b[0m \u001b[0mf\u001b[0m\u001b[1;33m:\u001b[0m\u001b[1;33m\u001b[0m\u001b[1;33m\u001b[0m\u001b[0m\n\u001b[0m\u001b[0;32m      6\u001b[0m                 \u001b[0md\u001b[0m\u001b[1;33m.\u001b[0m\u001b[0mappend\u001b[0m\u001b[1;33m(\u001b[0m\u001b[0mf\u001b[0m\u001b[1;33m.\u001b[0m\u001b[0mreadlines\u001b[0m\u001b[1;33m(\u001b[0m\u001b[1;33m)\u001b[0m\u001b[1;33m)\u001b[0m\u001b[1;33m\u001b[0m\u001b[1;33m\u001b[0m\u001b[0m\n\u001b[0;32m      7\u001b[0m                 \u001b[0mfile\u001b[0m \u001b[1;33m=\u001b[0m \u001b[0mleader\u001b[0m\u001b[1;33m\u001b[0m\u001b[1;33m\u001b[0m\u001b[0m\n",
      "\u001b[1;31mOSError\u001b[0m: [Errno 22] Invalid argument: 'https://raw.githubusercontent.com/sampurkiss/Misc/master/Trump/Data/call%20with%20nieto.txt'"
     ]
    }
   ],
   "source": [
    "transcript=pd.DataFrame()\n",
    "for leader in files.keys(): \n",
    "\tlink = files[leader]['link']\n",
    "\td=list()\n",
    "\twith open(link, encoding = 'latin-1') as f:\n",
    "\t\td.append(f.readlines())\n",
    "\t\tfile = leader\n",
    "\ttemp = pd.DataFrame({'transcript': file, 'lines': d[0][1:]})\n",
    "\tnew = temp['lines'].str.split(':', n=2, expand = True)\n",
    "\ttemp['speaker'] = new[0]\n",
    "\ttemp['lines'] = new[1]\n",
    "\ttranscript = pd.concat([transcript, temp])\n",
    "    \n",
    "    \n",
    "transcript['speaker']= transcript['speaker'].str.replace('The President', 'TRUMP')\n",
    "transcript['speaker']= transcript['speaker'].str.replace('President Zelenskyy', 'ZELENSKYY')\n",
    "transcript['num of words'] = transcript['lines'].str.split().str.len()"
   ]
  },
  {
   "cell_type": "markdown",
   "metadata": {},
   "source": [
    "If you look at line 4 of the Nieto transcript, you'll notice that Nieto switches to Spanish. If we're going to compare the conversations we have to account for the fact that all sentences must be repeated twice because of translation. This complicates things, but for simplicity I've assumed that all Trump and Nieto words are doubled as a result. This should be approximately correct. It also seems reasonable to expect that Zelenskyy would have used a translator as well (which has been confirmed by at least the Washington Post). "
   ]
  },
  {
   "cell_type": "code",
   "execution_count": 44,
   "metadata": {},
   "outputs": [],
   "source": [
    "transcript['num of words'] = np.where(transcript['transcript'] =='zelensky' ,transcript['num of words']*2, transcript['num of words'])\n",
    "transcript['num of words'] = np.where(transcript['transcript'] =='nieto' ,transcript['num of words']*2, transcript['num of words'])"
   ]
  },
  {
   "cell_type": "markdown",
   "metadata": {},
   "source": [
    "The easiest way to see what the differences are is to check out what the number of words used per minute are. This should give us a sense of how chatty Trump and friends are."
   ]
  },
  {
   "cell_type": "code",
   "execution_count": 45,
   "metadata": {},
   "outputs": [
    {
     "data": {
      "text/html": [
       "<div>\n",
       "<style scoped>\n",
       "    .dataframe tbody tr th:only-of-type {\n",
       "        vertical-align: middle;\n",
       "    }\n",
       "\n",
       "    .dataframe tbody tr th {\n",
       "        vertical-align: top;\n",
       "    }\n",
       "\n",
       "    .dataframe thead th {\n",
       "        text-align: right;\n",
       "    }\n",
       "</style>\n",
       "<table border=\"1\" class=\"dataframe\">\n",
       "  <thead>\n",
       "    <tr style=\"text-align: right;\">\n",
       "      <th></th>\n",
       "      <th>num of words</th>\n",
       "      <th>words per min</th>\n",
       "    </tr>\n",
       "    <tr>\n",
       "      <th>transcript</th>\n",
       "      <th></th>\n",
       "      <th></th>\n",
       "    </tr>\n",
       "  </thead>\n",
       "  <tbody>\n",
       "    <tr>\n",
       "      <th>nieto</th>\n",
       "      <td>6902</td>\n",
       "      <td>130</td>\n",
       "    </tr>\n",
       "    <tr>\n",
       "      <th>turnbull</th>\n",
       "      <td>3198</td>\n",
       "      <td>133</td>\n",
       "    </tr>\n",
       "    <tr>\n",
       "      <th>zelensky</th>\n",
       "      <td>3912</td>\n",
       "      <td>130</td>\n",
       "    </tr>\n",
       "  </tbody>\n",
       "</table>\n",
       "</div>"
      ],
      "text/plain": [
       "            num of words  words per min\n",
       "transcript                             \n",
       "nieto               6902            130\n",
       "turnbull            3198            133\n",
       "zelensky            3912            130"
      ]
     },
     "execution_count": 45,
     "metadata": {},
     "output_type": "execute_result"
    }
   ],
   "source": [
    "words = transcript.groupby(by ='transcript').sum()\n",
    "words[ 'words per min'] =None\n",
    "for name in words.index:\n",
    "\twords.loc[name, 'words per min'] = words.loc[name, 'num of words']/ files[name]['length in mins']\n",
    "words['words per min'] = (words['words per min']\n",
    "                                      .astype(float).round(0).astype(int))    \n",
    "words"
   ]
  },
  {
   "cell_type": "markdown",
   "metadata": {},
   "source": [
    "As you can see, all the calls are remarkably similar. All clock in at about 130 words used per minute. What's even more noticeable is that the Nieto and Zelenskyy transcript, both of which required a translator, clock in at identical words per minute. Even if you remove the translation adjustment, the result is identical.\n",
    "\n",
    "\n",
    "Another way to approach this is to look at number of words used by each leader to see if there are any differences. "
   ]
  },
  {
   "cell_type": "code",
   "execution_count": 46,
   "metadata": {},
   "outputs": [
    {
     "data": {
      "text/html": [
       "<div>\n",
       "<style scoped>\n",
       "    .dataframe tbody tr th:only-of-type {\n",
       "        vertical-align: middle;\n",
       "    }\n",
       "\n",
       "    .dataframe tbody tr th {\n",
       "        vertical-align: top;\n",
       "    }\n",
       "\n",
       "    .dataframe thead th {\n",
       "        text-align: right;\n",
       "    }\n",
       "</style>\n",
       "<table border=\"1\" class=\"dataframe\">\n",
       "  <thead>\n",
       "    <tr style=\"text-align: right;\">\n",
       "      <th></th>\n",
       "      <th>transcript</th>\n",
       "      <th>speaker</th>\n",
       "      <th>num of words</th>\n",
       "      <th>words per min</th>\n",
       "    </tr>\n",
       "  </thead>\n",
       "  <tbody>\n",
       "    <tr>\n",
       "      <th>0</th>\n",
       "      <td>nieto</td>\n",
       "      <td>PEÑA NIETO</td>\n",
       "      <td>3126</td>\n",
       "      <td>59</td>\n",
       "    </tr>\n",
       "    <tr>\n",
       "      <th>1</th>\n",
       "      <td>nieto</td>\n",
       "      <td>TRUMP</td>\n",
       "      <td>3776</td>\n",
       "      <td>71</td>\n",
       "    </tr>\n",
       "    <tr>\n",
       "      <th>2</th>\n",
       "      <td>turnbull</td>\n",
       "      <td>TRUMP</td>\n",
       "      <td>1686</td>\n",
       "      <td>70</td>\n",
       "    </tr>\n",
       "    <tr>\n",
       "      <th>3</th>\n",
       "      <td>turnbull</td>\n",
       "      <td>TURNBULL</td>\n",
       "      <td>1512</td>\n",
       "      <td>63</td>\n",
       "    </tr>\n",
       "    <tr>\n",
       "      <th>4</th>\n",
       "      <td>zelensky</td>\n",
       "      <td>TRUMP</td>\n",
       "      <td>1508</td>\n",
       "      <td>50</td>\n",
       "    </tr>\n",
       "    <tr>\n",
       "      <th>5</th>\n",
       "      <td>zelensky</td>\n",
       "      <td>ZELENSKYY</td>\n",
       "      <td>2404</td>\n",
       "      <td>80</td>\n",
       "    </tr>\n",
       "  </tbody>\n",
       "</table>\n",
       "</div>"
      ],
      "text/plain": [
       "  transcript     speaker  num of words  words per min\n",
       "0      nieto  PEÑA NIETO          3126             59\n",
       "1      nieto       TRUMP          3776             71\n",
       "2   turnbull       TRUMP          1686             70\n",
       "3   turnbull    TURNBULL          1512             63\n",
       "4   zelensky       TRUMP          1508             50\n",
       "5   zelensky   ZELENSKYY          2404             80"
      ]
     },
     "execution_count": 46,
     "metadata": {},
     "output_type": "execute_result"
    }
   ],
   "source": [
    "words_per_speaker =transcript.groupby(by =['transcript', 'speaker']).sum().reset_index()\n",
    "words_per_speaker [ 'words per min'] =None\n",
    "for name in words_per_speaker['transcript']:\n",
    "\twords_per_speaker [ 'words per min']  = np.where(words_per_speaker['transcript'] ==name, words_per_speaker['num of words']/ files[name]['length in mins'],\n",
    "\t\t\t\t\t\t\t  words_per_speaker['words per min'])\n",
    "words_per_speaker['words per min'] = (words_per_speaker['words per min']\n",
    "                                      .astype(float).round(0).astype(int))\n",
    "words_per_speaker"
   ]
  },
  {
   "cell_type": "markdown",
   "metadata": {},
   "source": [
    "Strangely, in the Nieto and Turnbull call, Trump manages to say about 70 words per minute and the other world leaders squeeze in about 60. In the Zelenskyy call, Trump only manages 50 words per minute and Zelenskyy speaks 80. This indicates that, for some reason, Trump spoke 30% less and Zelenskyy spoke 30% more. \n",
    "\n",
    "So, we already know that the the transcript isn't the full transcript. We know it's been edited down somehow. My main question is, did Trump really speak a lot less? Did Zelenskyy really speak a lot more? Or have things been modified to hide one or the other? \n",
    "\n",
    "Next step, I want to translate the English words to get a sense of how many words were actually used. I think King et. al. should use the transcript with translation to see if it still seems like anything is missing. The other thing I hope to do is use sentiment analysis to dig into how each conversation actually went. Unfortunately transcripts between Trump and world leaders are notoriously hard to get (for good reason, probably) so, even though I'd love to run some ML analysis, the training set is a bit too small."
   ]
  }
 ],
 "metadata": {
  "kernelspec": {
   "display_name": "Python 3",
   "language": "python",
   "name": "python3"
  },
  "language_info": {
   "codemirror_mode": {
    "name": "ipython",
    "version": 3
   },
   "file_extension": ".py",
   "mimetype": "text/x-python",
   "name": "python",
   "nbconvert_exporter": "python",
   "pygments_lexer": "ipython3",
   "version": "3.7.3"
  }
 },
 "nbformat": 4,
 "nbformat_minor": 2
}
